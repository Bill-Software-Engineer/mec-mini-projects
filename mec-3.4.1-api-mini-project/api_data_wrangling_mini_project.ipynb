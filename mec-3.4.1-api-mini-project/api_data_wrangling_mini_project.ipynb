{
 "cells": [
  {
   "cell_type": "markdown",
   "metadata": {},
   "source": [
    "This exercise will require you to pull some data from the Qunadl API. Qaundl is currently the most widely used aggregator of financial market data."
   ]
  },
  {
   "cell_type": "markdown",
   "metadata": {},
   "source": [
    "As a first step, you will need to register a free account on the http://www.quandl.com website."
   ]
  },
  {
   "cell_type": "markdown",
   "metadata": {},
   "source": [
    "After you register, you will be provided with a unique API key, that you should store:"
   ]
  },
  {
   "cell_type": "code",
   "execution_count": 1,
   "metadata": {
    "tags": []
   },
   "outputs": [],
   "source": [
    "# Store the API key as a string - according to PEP8, constants are always named in all upper case\n",
    "API_KEY = 'vGmSYi6TqbbxM2d1Ja8z'"
   ]
  },
  {
   "cell_type": "markdown",
   "metadata": {},
   "source": [
    "Qaundl has a large number of data sources, but, unfortunately, most of them require a Premium subscription. Still, there are also a good number of free datasets."
   ]
  },
  {
   "cell_type": "markdown",
   "metadata": {},
   "source": [
    "For this mini project, we will focus on equities data from the Frankfurt Stock Exhange (FSE), which is available for free. We'll try and analyze the stock prices of a company called Carl Zeiss Meditec, which manufactures tools for eye examinations, as well as medical lasers for laser eye surgery: https://www.zeiss.com/meditec/int/home.html. The company is listed under the stock ticker AFX_X."
   ]
  },
  {
   "cell_type": "markdown",
   "metadata": {},
   "source": [
    "You can find the detailed Quandl API instructions here: https://docs.quandl.com/docs/time-series"
   ]
  },
  {
   "cell_type": "markdown",
   "metadata": {},
   "source": [
    "While there is a dedicated Python package for connecting to the Quandl API, we would prefer that you use the *requests* package, which can be easily downloaded using *pip* or *conda*. You can find the documentation for the package here: http://docs.python-requests.org/en/master/ "
   ]
  },
  {
   "cell_type": "markdown",
   "metadata": {},
   "source": [
    "Finally, apart from the *requests* package, you are encouraged to not use any third party Python packages, such as *pandas*, and instead focus on what's available in the Python Standard Library (the *collections* module might come in handy: https://pymotw.com/3/collections/).\n",
    "Also, since you won't have access to DataFrames, you are encouraged to us Python's native data structures - preferably dictionaries, though some questions can also be answered using lists.\n",
    "You can read more on these data structures here: https://docs.python.org/3/tutorial/datastructures.html"
   ]
  },
  {
   "cell_type": "markdown",
   "metadata": {},
   "source": [
    "Keep in mind that the JSON responses you will be getting from the API map almost one-to-one to Python's dictionaries. Unfortunately, they can be very nested, so make sure you read up on indexing dictionaries in the documentation provided above."
   ]
  },
  {
   "cell_type": "code",
   "execution_count": 48,
   "metadata": {
    "tags": []
   },
   "outputs": [],
   "source": [
    "# First, import the relevant modules\n",
    "\n",
    "import requests\n",
    "import json\n",
    "import statistics \n",
    "import numpy"
   ]
  },
  {
   "cell_type": "code",
   "execution_count": 6,
   "metadata": {
    "tags": []
   },
   "outputs": [],
   "source": [
    "# Now, call the Quandl API and pull out a small sample of the data (only one day) to get a glimpse\n",
    "# into the JSON structure that will be returned\n",
    "url = f\"https://www.quandl.com/api/v3/datasets/FSE/AFX_X.json?&start_date=2017-01-01&end_date=2017-12-30&api_key={API_KEY}\"\n",
    "res = requests.get(url)"
   ]
  },
  {
   "cell_type": "code",
   "execution_count": 7,
   "metadata": {
    "tags": []
   },
   "outputs": [],
   "source": [
    "# Inspect the JSON structure of the object you created, and take note of how nested it is,\n",
    "# as well as the overall structure\n",
    "res_json = res.json() "
   ]
  },
  {
   "cell_type": "markdown",
   "metadata": {},
   "source": [
    "These are your tasks for this mini project:\n",
    "\n",
    "1. Collect data from the Franfurt Stock Exchange, for the ticker AFX_X, for the whole year 2017 (keep in mind that the date format is YYYY-MM-DD).\n",
    "2. Convert the returned JSON object into a Python dictionary.\n",
    "3. Calculate what the highest and lowest opening prices were for the stock in this period.\n",
    "4. What was the largest change in any one day (based on High and Low price)?\n",
    "5. What was the largest change between any two days (based on Closing Price)?\n",
    "6. What was the average daily trading volume during this year?\n",
    "7. (Optional) What was the median trading volume during this year. (Note: you may need to implement your own function for calculating the median.)"
   ]
  },
  {
   "cell_type": "code",
   "execution_count": 58,
   "metadata": {
    "tags": []
   },
   "outputs": [
    {
     "name": "stdout",
     "output_type": "stream",
     "text": [
      "Highest was on 2017-12-14 for 53.54\n",
      "Lowest was on 2017-01-23 for 33.62\n",
      "Largest Daily Change was on 2017-08-09 for 1.69\n",
      "Largest 2 Day Change was on 2017-03-21 for 2.73\n",
      "Total Traded Volume was 22726706.0 in 255 days \n",
      "The Median Trading Volume was 76286.0\n"
     ]
    }
   ],
   "source": [
    "\n",
    "HighestDate = \"\"\n",
    "HighestPrice = 0\n",
    "LowestDate = \"\"\n",
    "LowestPrice = 9999\n",
    "LargestChangeDate = \"\"\n",
    "LargestChangePrice = 0\n",
    "PrevDayOpenPrice = False\n",
    "Largest2DayChangeDate = \"\"\n",
    "Largest2DayChangePrice = 0\n",
    "TotalTradeVolume = 0\n",
    "TotalTradingDays = 0\n",
    "for day_data in res_json[\"dataset\"][\"data\"]:\n",
    "    Date = day_data[0]\n",
    "    Open = day_data[1]\n",
    "    High = day_data[2]\n",
    "    Low = day_data[3]\n",
    "    Close = day_data[4]\n",
    "    TradedVolume = day_data[6]\n",
    "    Turnover = day_data[7]\n",
    "    if(isinstance(Open, float) and isinstance(Close, float)):\n",
    "        DailyPriceChange = abs(Open - Close)\n",
    "        if(PrevDayOpenPrice == False):\n",
    "            PrevDayOpenPrice = Open\n",
    "        TwoDayPriceChange = abs(PrevDayOpenPrice - Close)\n",
    "        PrevDayOpenPrice = Open\n",
    "    else:\n",
    "        DailyPriceChange = 0\n",
    "        TwoDayPriceChange = 0\n",
    "    \n",
    "    TotalTradeVolume += TradedVolume\n",
    "    TotalTradingDays += 1\n",
    "    if(Low < LowestPrice):\n",
    "        LowestDate = Date\n",
    "        LowestPrice = Low\n",
    "    if(High > HighestPrice):\n",
    "        HighestDate = Date\n",
    "        HighestPrice = High\n",
    "    if(DailyPriceChange > LargestChangePrice):\n",
    "        LargestChangeDate = Date\n",
    "        LargestChangePrice = DailyPriceChange\n",
    "    if(TwoDayPriceChange > Largest2DayChangePrice):\n",
    "        Largest2DayChangeDate = Date\n",
    "        Largest2DayChangePrice = TwoDayPriceChange\n",
    "LargestChangePrice = round(LargestChangePrice, 2)\n",
    "Largest2DayChangePrice = round(Largest2DayChangePrice, 2)\n",
    "print(f\"Highest was on {HighestDate} for {HighestPrice}\")\n",
    "print(f\"Lowest was on {LowestDate} for {LowestPrice}\")\n",
    "print(f\"Largest Daily Change was on {LargestChangeDate} for {LargestChangePrice}\")\n",
    "print(f\"Largest 2 Day Change was on {Largest2DayChangeDate} for {Largest2DayChangePrice}\")\n",
    "print(f\"Total Traded Volume was {TotalTradeVolume} in {TotalTradingDays} days \")\n",
    "\n",
    "# use numpy and statistic to calculate median\n",
    "num = numpy.array(res_json[\"dataset\"][\"data\"])\n",
    "volumes = num[:, 6]\n",
    "median = statistics.median(volumes)\n",
    "print(f\"The Median Trading Volume was {median}\") "
   ]
  },
  {
   "cell_type": "code",
   "execution_count": null,
   "metadata": {},
   "outputs": [],
   "source": []
  },
  {
   "cell_type": "code",
   "execution_count": null,
   "metadata": {},
   "outputs": [],
   "source": []
  }
 ],
 "metadata": {
  "kernelspec": {
   "display_name": "Python 3",
   "language": "python",
   "name": "python3"
  },
  "language_info": {
   "codemirror_mode": {
    "name": "ipython",
    "version": 3
   },
   "file_extension": ".py",
   "mimetype": "text/x-python",
   "name": "python",
   "nbconvert_exporter": "python",
   "pygments_lexer": "ipython3",
   "version": "3.7.0"
  }
 },
 "nbformat": 4,
 "nbformat_minor": 4
}
